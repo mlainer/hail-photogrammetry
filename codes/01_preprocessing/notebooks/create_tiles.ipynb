{
 "cells": [
  {
   "cell_type": "code",
   "execution_count": 8,
   "metadata": {},
   "outputs": [],
   "source": [
    "import os\n",
    "import glob\n",
    "import cv2\n",
    "import numpy as np\n",
    "import PIL\n",
    "from PIL import Image\n",
    "PIL.Image.MAX_IMAGE_PIXELS = 2000000000\n",
    "\n",
    "def crop_image(image_path,height,width,out_file):\n",
    "    image = cv2.imread(image_path)\n",
    "    crop_im = image[0:height, 0:width]\n",
    "    cv2.imwrite(out_file,crop_im)\n",
    "    return\n",
    "    \n",
    "def TileImage(image, rows, cols, path, basename, subset):\n",
    "    imagename = basename\n",
    "    im = Image.open(image)\n",
    "    width, height = im.size\n",
    "    indexrow = 0\n",
    "    indexcolum = 0\n",
    "    left = 0\n",
    "    top = 0\n",
    "    right = width/cols\n",
    "    buttom = 0\n",
    "    while(right<=width):    \n",
    "        buttom = height/rows\n",
    "        top = 0\n",
    "        indexrow=0  \n",
    "\n",
    "        while(top<height):\n",
    "            #print(f\"h : {height}, w : {width}, left : {left},top : {top},right : {right},buttom   :  {buttom}\")\n",
    "            cropimg= im.crop((left, top, right, buttom))\n",
    "            if indexrow < 10 and indexcolum < 10:\n",
    "                cropimg.save(path + imagename +subset+str(0)+ str(indexrow) +'-'+str(0)+str(indexcolum) +\".png\")\n",
    "            elif indexrow < 10 and indexcolum >= 10:\n",
    "                cropimg.save(path + imagename +subset+str(0)+ str(indexrow) +'-'+str(indexcolum) +\".png\")\n",
    "            elif indexrow >= 10 and indexcolum >= 10:\n",
    "                cropimg.save(path + imagename +subset+ str(indexrow) +'-'+str(indexcolum) +\".png\")\n",
    "            elif indexrow >= 10 and indexcolum < 10:     \n",
    "                cropimg.save(path + imagename +subset+ str(indexrow) +'-'+str(0)+str(indexcolum) +\".png\")\n",
    "            top = buttom\n",
    "            indexrow += 1\n",
    "            buttom += height/rows\n",
    "\n",
    "        indexcolum+=1\n",
    "        left = right\n",
    "        right += width/cols"
   ]
  },
  {
   "cell_type": "code",
   "execution_count": 4,
   "metadata": {},
   "outputs": [
    {
     "name": "stdout",
     "output_type": "stream",
     "text": [
      "Height:  14500 Width:  7500\n"
     ]
    }
   ],
   "source": [
    "image_path = '/home/martin/container/autofs/data/hail/odm/hail_20220628_r1/ODM_20220628.png'\n",
    "tile_path = '/home/martin/container/autofs/data/hail/odm/hail_20220628_r1/tiles/'\n",
    "\n",
    "if not os.path.exists(tile_path):\n",
    "    os.makedirs(tile_path)\n",
    "    os.chmod(tile_path, 0o755)\n",
    "    \n",
    "image = cv2.imread(image_path)\n",
    "h_init, w_init = image.shape[:2]\n",
    "print('Height: ', h_init, 'Width: ', w_init)\n",
    "\n",
    "h, w = image.shape[:2]\n",
    "rows = np.int(h/500)\n",
    "cols = np.int(w/500)\n",
    "\n",
    "basename = 'odm_20220628'\n",
    "TileImage(image_path, rows, cols, tile_path, basename, '-')\n",
    "\n",
    "#Apply correct permissions\n",
    "os.chmod(tile_path, 0o755)\n",
    "all_files = glob.glob(tile_path+'*.png')\n",
    "all_files.sort()\n",
    "\n",
    "for file in all_files:\n",
    "    os.chmod(file, 0o644)"
   ]
  },
  {
   "cell_type": "code",
   "execution_count": null,
   "metadata": {},
   "outputs": [],
   "source": [
    "#If necessary crop image\n",
    "crop_image(image_path,10500,8500,cropped_file)"
   ]
  }
 ],
 "metadata": {
  "kernelspec": {
   "display_name": "Python 3",
   "language": "python",
   "name": "python3"
  },
  "language_info": {
   "codemirror_mode": {
    "name": "ipython",
    "version": 3
   },
   "file_extension": ".py",
   "mimetype": "text/x-python",
   "name": "python",
   "nbconvert_exporter": "python",
   "pygments_lexer": "ipython3",
   "version": "3.5.6"
  }
 },
 "nbformat": 4,
 "nbformat_minor": 4
}
