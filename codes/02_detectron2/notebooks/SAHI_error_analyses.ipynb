{
 "cells": [
  {
   "cell_type": "code",
   "execution_count": 3,
   "id": "7c9a2e3a",
   "metadata": {},
   "outputs": [],
   "source": [
    "import os\n",
    "from detectron2.config import get_cfg\n",
    "from detectron2.data import DatasetCatalog, MetadataCatalog, build_detection_test_loader\n",
    "from detectron2.evaluation import COCOEvaluator, inference_on_dataset\n",
    "from detectron2.engine import DefaultPredictor\n",
    "from sahi.utils.detectron2 import export_cfg_as_yaml \n",
    "\n",
    "cfg = get_cfg()\n",
    "cfg.merge_from_file(\"/home/appuser/detectron2_repo/configs/COCO-InstanceSegmentation/mask_rcnn_R_50_FPN_3x.yaml\")\n",
    "\n",
    "experiment_folder = './output/logs/hparam_tuning/run-3/'\n",
    "\n",
    "#cfg.MODEL.WEIGHTS = os.path.join(experiment_folder, \"model_final.pth\")\n",
    "cfg.MODEL.ROI_HEADS.SCORE_THRESH_TEST = 0.90\n",
    "cfg.MODEL.ROI_HEADS.NUM_CLASSES = 1\n",
    "#cfg.MODEL.ROI_HEADS.BATCH_SIZE_PER_IMAGE = 256\n",
    "cfg.TEST.DETECTIONS_PER_IMAGE = 50\n",
    "#predictor = DefaultPredictor(cfg)\n",
    "\n",
    "# export config as yaml\n",
    "export_cfg_as_yaml(cfg, export_path='./output/sahi/config.yaml')"
   ]
  },
  {
   "cell_type": "code",
   "execution_count": null,
   "id": "81c5b81d",
   "metadata": {},
   "outputs": [],
   "source": [
    "sahi predict --source ./data/hail_20210620_r1/val/images/ --dataset_json_path ./data/hail_20210620_r1/val/annotations/instances_default.json --model_type detectron2 --model_path ./output/logs/hparam_tuning/run-3/model_final.pth --config_path ./output/sahi/config.yaml --no_sliced_prediction"
   ]
  }
 ],
 "metadata": {
  "kernelspec": {
   "display_name": "Python 3",
   "language": "python",
   "name": "python3"
  },
  "language_info": {
   "codemirror_mode": {
    "name": "ipython",
    "version": 3
   },
   "file_extension": ".py",
   "mimetype": "text/x-python",
   "name": "python",
   "nbconvert_exporter": "python",
   "pygments_lexer": "ipython3",
   "version": "3.6.9"
  }
 },
 "nbformat": 4,
 "nbformat_minor": 5
}
