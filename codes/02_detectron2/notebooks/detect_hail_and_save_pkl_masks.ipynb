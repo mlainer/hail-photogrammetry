{
 "cells": [
  {
   "cell_type": "code",
   "execution_count": 1,
   "id": "a8df5ba2",
   "metadata": {},
   "outputs": [
    {
     "name": "stderr",
     "output_type": "stream",
     "text": [
      "/home/appuser/.local/lib/python3.6/site-packages/torch/functional.py:445: UserWarning: torch.meshgrid: in an upcoming release, it will be required to pass the indexing argument. (Triggered internally at  ../aten/src/ATen/native/TensorShape.cpp:2157.)\n",
      "  return _VF.meshgrid(tensors, **kwargs)  # type: ignore[attr-defined]\n"
     ]
    }
   ],
   "source": [
    "#Detect hail and save segmentation masks\n",
    "from detectron2.data import DatasetCatalog, MetadataCatalog, build_detection_test_loader\n",
    "from detectron2.evaluation import COCOEvaluator, inference_on_dataset\n",
    "from detectron2.engine import DefaultPredictor\n",
    "from detectron2.utils.visualizer import ColorMode\n",
    "from detectron2.config import get_cfg\n",
    "\n",
    "import os\n",
    "import cv2\n",
    "import numpy as np\n",
    "import glob\n",
    "from pathlib import Path\n",
    "import pickle\n",
    "import numpy as np\n",
    "\n",
    "experiment_folder = './output/logs/hparam_tuning/run-3/'\n",
    "\n",
    "#Load configuration\n",
    "cfg = get_cfg()\n",
    "cfg.merge_from_file(\"/home/appuser/detectron2_repo/configs/COCO-InstanceSegmentation/mask_rcnn_R_50_FPN_3x.yaml\")\n",
    "cfg.MODEL.WEIGHTS = os.path.join(experiment_folder, \"model_final.pth\")\n",
    "cfg.MODEL.ROI_HEADS.SCORE_THRESH_TEST = 0.90\n",
    "cfg.MODEL.ROI_HEADS.NUM_CLASSES = 1\n",
    "cfg.MODEL.ROI_HEADS.BATCH_SIZE_PER_IMAGE = 256\n",
    "cfg.TEST.DETECTIONS_PER_IMAGE = 50\n",
    "\n",
    "predictor = DefaultPredictor(cfg)\n",
    "\n",
    "#Process tile images\n",
    "images_path = 'data/hail_20220628_r1/'\n",
    "\n",
    "#Output folder of pkl files\n",
    "#mask_array_path = 'products/hparam_tuning/run-3/all_images/pkl/'\n",
    "\n",
    "#Hail event LOM 20220628\n",
    "mask_array_path = 'products/hparam_tuning/run-3/hail_20220628_r1/pkl/'\n",
    "\n",
    "if not os.path.exists(mask_array_path):\n",
    "    os.makedirs(mask_array_path)  \n",
    "\n",
    "all_images = glob.glob(images_path+'*.png')\n",
    "all_images.sort()\n",
    "\n",
    "for file in all_images:\n",
    "    im = cv2.imread(file) # Be sure that file has permissions 644\n",
    "    image_name = Path(file).stem\n",
    "    #try:\n",
    "    outputs = predictor(im)\n",
    "    masks = outputs['instances'][outputs['instances'].pred_classes==0].pred_masks.cpu().numpy()\n",
    "\n",
    "    mask_array = []\n",
    "    for i in range(masks.shape[0]):\n",
    "        mask_int = masks[i,:,:]*1\n",
    "        mask_array.append(mask_int)\n",
    "\n",
    "    with open(mask_array_path+'mask_array_'+image_name+'.pkl','wb') as f:\n",
    "        pickle.dump(mask_array, f)"
   ]
  },
  {
   "cell_type": "code",
   "execution_count": null,
   "id": "deca8d64",
   "metadata": {},
   "outputs": [],
   "source": []
  }
 ],
 "metadata": {
  "kernelspec": {
   "display_name": "Python 3",
   "language": "python",
   "name": "python3"
  },
  "language_info": {
   "codemirror_mode": {
    "name": "ipython",
    "version": 3
   },
   "file_extension": ".py",
   "mimetype": "text/x-python",
   "name": "python",
   "nbconvert_exporter": "python",
   "pygments_lexer": "ipython3",
   "version": "3.6.9"
  }
 },
 "nbformat": 4,
 "nbformat_minor": 5
}
