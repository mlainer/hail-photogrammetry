{
 "cells": [
  {
   "cell_type": "code",
   "execution_count": null,
   "id": "4c5e31b1-a104-4b68-9b87-a160d88e00f1",
   "metadata": {},
   "outputs": [],
   "source": [
    "\"\"\"\n",
    "Prepare and export configuration for a Detectron2 model as a YAML file.\n",
    "\n",
    "This script loads a pre-existing Detectron2 configuration file, adjusts certain parameters,\n",
    "and then exports the modified configuration as a YAML file. The exported YAML file can be\n",
    "used for documentation or sharing configurations.\n",
    "\n",
    "Parameters:\n",
    "- cfg (CfgNode): Detectron2 configuration object.\n",
    "- experiment_folder (str): Path to the folder containing the experiment results and the trained model.\n",
    "- export_path (str): Path to export the final configuration YAML file.\n",
    "\n",
    "Returns:\n",
    "- None: The script modifies the configuration and exports it without returning any value.\n",
    "\"\"\"\n",
    "\n",
    "import os\n",
    "from detectron2.config import get_cfg\n",
    "from sahi.utils.detectron2 import export_cfg_as_yaml  # Assuming you have a custom utility function\n",
    "\n",
    "# Get a Detectron2 configuration object\n",
    "cfg = get_cfg()\n",
    "\n",
    "# Merge with a pre-existing configuration file (COCO instance segmentation)\n",
    "cfg.merge_from_file(\"/home/appuser/detectron2_repo/configs/COCO-InstanceSegmentation/mask_rcnn_R_50_FPN_3x.yaml\")\n",
    "\n",
    "# Path to the folder containing the experiment results and the trained model\n",
    "experiment_folder = './output/logs/hparam_tuning/run-3/'\n",
    "\n",
    "# Adjust some model parameters\n",
    "cfg.MODEL.ROI_HEADS.SCORE_THRESH_TEST = 0.90\n",
    "cfg.MODEL.ROI_HEADS.NUM_CLASSES = 1\n",
    "cfg.TEST.DETECTIONS_PER_IMAGE = 50\n",
    "\n",
    "# Uncomment the following lines if you want to set additional parameters\n",
    "# cfg.MODEL.ROI_HEADS.BATCH_SIZE_PER_IMAGE = 256\n",
    "# predictor = DefaultPredictor(cfg)\n",
    "s\n",
    "# Export the modified configuration as a YAML file\n",
    "export_path = './output/sahi/config.yaml'\n",
    "export_cfg_as_yaml(cfg, export_path)\n",
    "\n",
    "# Once the configuration is exported, it can be used in conjunction with the 'sahi predict' command.\n",
    "# Example 'sahi predict' command using the exported configuration:\n",
    "# sahi predict --source ./data/hail_20210620_r1/val/images/ --dataset_json_path ./data/hail_20210620_r1/val/annotations/instances_default.json --model_type detectron2 --model_path ./output/logs/hparam_tuning/run-3/model_final.pth --config_path ./output/sahi/config.yaml --no_sliced_prediction\n"
   ]
  },
  {
   "cell_type": "code",
   "execution_count": null,
   "id": "b5207d63-c204-4522-981c-51d0cb4bae51",
   "metadata": {},
   "outputs": [],
   "source": [
    "import subprocess\n",
    "\n",
    "# Example sahi predict command\n",
    "sahi_predict_command = [\n",
    "    'sahi', 'predict',\n",
    "    '--source', './data/hail_20210620_r1/val/images/',\n",
    "    '--dataset_json_path', './data/hail_20210620_r1/val/annotations/instances_default.json',\n",
    "    '--model_type', 'detectron2',\n",
    "    '--model_path', './output/logs/hparam_tuning/run-3/model_final.pth',\n",
    "    '--config_path', './output/sahi/config.yaml',\n",
    "    '--no_sliced_prediction'\n",
    "]\n",
    "\n",
    "# Run sahi predict command\n",
    "subprocess.run(sahi_predict_command)"
   ]
  }
 ],
 "metadata": {
  "kernelspec": {
   "display_name": "Python 3 (ipykernel)",
   "language": "python",
   "name": "python3"
  },
  "language_info": {
   "codemirror_mode": {
    "name": "ipython",
    "version": 3
   },
   "file_extension": ".py",
   "mimetype": "text/x-python",
   "name": "python",
   "nbconvert_exporter": "python",
   "pygments_lexer": "ipython3",
   "version": "3.10.13"
  }
 },
 "nbformat": 4,
 "nbformat_minor": 5
}
