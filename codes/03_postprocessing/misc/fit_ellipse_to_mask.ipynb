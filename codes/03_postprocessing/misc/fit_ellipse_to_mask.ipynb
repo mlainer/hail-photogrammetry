{
 "cells": [
  {
   "cell_type": "code",
   "execution_count": 102,
   "id": "7500b7b5",
   "metadata": {},
   "outputs": [],
   "source": [
    "import cv2\n",
    "import glob\n",
    "import pickle\n",
    "import numpy as np\n",
    "from pathlib import Path\n",
    "from PIL import Image\n",
    "import matplotlib.pyplot as plt\n",
    "import matplotlib.cm as cm\n",
    "from matplotlib.patches import Ellipse\n",
    "\n",
    "in_path = 'pkl/'\n",
    "out_path = 'masks_for_cv2/'\n",
    "\n",
    "all_files = glob.glob(in_path+'*.pkl')\n",
    "all_files.sort()\n",
    "\n",
    "for file in all_files:\n",
    "\n",
    "    with open(file,'rb') as f:\n",
    "        masks = pickle.load(f)\n",
    "        \n",
    "    for i in range(np.shape(masks)[0]):\n",
    "        image_name = Path(file).stem\n",
    "        mask_tmp = masks[i]\n",
    "        plt.imsave(out_path+image_name+'_h'+str(i)+'.png', np.array(mask_tmp).reshape(500,500), cmap=cm.gray)"
   ]
  },
  {
   "cell_type": "code",
   "execution_count": 123,
   "id": "4bb20190",
   "metadata": {},
   "outputs": [],
   "source": [
    "bi = 'masks_for_cv2/mask_array_odm_orth_0_0_h0.png'\n",
    "img_tmp = Image.open(bi)"
   ]
  },
  {
   "cell_type": "code",
   "execution_count": 1,
   "id": "5ec942ed",
   "metadata": {},
   "outputs": [],
   "source": [
    "\n",
    "bi = 'masks_for_cv2/mask_array_odm_orth_0_0_h0.png'\n",
    "img_tmp = cv2.imread(bi)\n",
    "img = cv2.cvtColor(img_tmp, cv2.COLOR_BGR2GRAY)\n",
    "\n",
    "contours, hierarchy = cv2.findContours(img,cv2.RETR_EXTERNAL,cv2.CHAIN_APPROX_NONE)\n",
    "\n",
    "for ind, cont in enumerate(contours):\n",
    "    elps = cv2.fitEllipse(cont)\n",
    "    #Feed elps directly into cv2.ellipse"
   ]
  },
  {
   "cell_type": "code",
   "execution_count": 29,
   "id": "87266287",
   "metadata": {},
   "outputs": [
    {
     "data": {
      "text/plain": [
       "<matplotlib.image.AxesImage at 0x7fb094d71358>"
      ]
     },
     "execution_count": 29,
     "metadata": {},
     "output_type": "execute_result"
    },
    {
     "data": {
      "image/png": "[encoded data removed]",
      "text/plain": [
       "<Figure size 432x288 with 1 Axes>"
      ]
     },
     "metadata": {
      "needs_background": "light"
     },
     "output_type": "display_data"
    }
   ],
   "source": [
    "plt.imshow(img)"
   ]
  },
  {
   "cell_type": "code",
   "execution_count": 27,
   "id": "b2860a0b",
   "metadata": {},
   "outputs": [],
   "source": [
    "import numpy as np\n",
    "from matplotlib import patches\n",
    "import matplotlib.pyplot as plt\n",
    "\n",
    "\n",
    "xcenter, ycenter = elps[0][0], elps[0][1]\n",
    "width, height = elps[1][0], elps[1][1]\n",
    "angle = elps[2]\n",
    "\n",
    "theta = np.deg2rad(np.arange(0.0, 360.0, 1.0))\n",
    "x = 0.5 * width * np.cos(theta)\n",
    "y = 0.5 * height * np.sin(theta)\n",
    "\n",
    "rtheta = np.radians(angle)\n",
    "R = np.array([\n",
    "    [np.cos(rtheta), -np.sin(rtheta)],\n",
    "    [np.sin(rtheta),  np.cos(rtheta)],\n",
    "    ])\n",
    "\n",
    "\n",
    "x, y = np.dot(R, np.array([x, y]))\n",
    "x += xcenter\n",
    "y += ycenter"
   ]
  },
  {
   "cell_type": "code",
   "execution_count": 28,
   "id": "122441cb",
   "metadata": {},
   "outputs": [
    {
     "data": {
      "image/png": "[encoded data removed]",
      "text/plain": [
       "<Figure size 432x288 with 2 Axes>"
      ]
     },
     "metadata": {
      "needs_background": "light"
     },
     "output_type": "display_data"
    }
   ],
   "source": [
    "fig = plt.figure()\n",
    "ax = fig.add_subplot(111, aspect='auto')\n",
    "ax.fill(x, y, alpha=0.2, facecolor='yellow',\n",
    "        edgecolor='yellow', linewidth=1, zorder=1)\n",
    "\n",
    "e1 = patches.Ellipse((xcenter, ycenter), width, height,\n",
    "                     angle=angle, linewidth=2, fill=False, zorder=2)\n",
    "\n",
    "ax.add_patch(e1)\n",
    "\n",
    "#ax = fig.add_subplot(212, aspect='equal')\n",
    "ax.fill(x, y, alpha=0.2, facecolor='green', edgecolor='green', zorder=1)\n",
    "e2 = patches.Ellipse((xcenter, ycenter), width, height,\n",
    "                     angle=angle, linewidth=2, fill=False, zorder=2)\n",
    "\n",
    "\n",
    "ax.add_patch(e2)\n",
    "fig.savefig('ellipse_compare')"
   ]
  },
  {
   "cell_type": "code",
   "execution_count": 19,
   "id": "dd16ec05",
   "metadata": {},
   "outputs": [
    {
     "data": {
      "text/plain": [
       "<Figure size 432x288 with 0 Axes>"
      ]
     },
     "metadata": {},
     "output_type": "display_data"
    }
   ],
   "source": [
    "plt.figure()\n",
    "ax = Ellipse(elps[0], elps[1][0], elps[1][1], angle=elps[2],linewidth=2,color='red')\n",
    "plt.show()"
   ]
  }
 ],
 "metadata": {
  "kernelspec": {
   "display_name": "Python 3 (ipykernel)",
   "language": "python",
   "name": "python3"
  },
  "language_info": {
   "codemirror_mode": {
    "name": "ipython",
    "version": 3
   },
   "file_extension": ".py",
   "mimetype": "text/x-python",
   "name": "python",
   "nbconvert_exporter": "python",
   "pygments_lexer": "ipython3",
   "version": "3.10.4"
  }
 },
 "nbformat": 4,
 "nbformat_minor": 5
}
