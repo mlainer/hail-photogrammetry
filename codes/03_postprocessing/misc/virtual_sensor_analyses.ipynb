{
 "cells": [
  {
   "cell_type": "code",
   "execution_count": 1,
   "id": "d4ad3316-2a5b-4a06-8e61-b0beb1177076",
   "metadata": {},
   "outputs": [],
   "source": [
    "import os\n",
    "import sys\n",
    "import netCDF4 as nc\n",
    "import numpy as np\n",
    "import pickle as pk\n",
    "from scipy.spatial import distance\n",
    "import random"
   ]
  },
  {
   "cell_type": "markdown",
   "id": "acae23d7-35d8-4227-b62d-d1bbf782d860",
   "metadata": {},
   "source": [
    "Download hail size data from 2021-06-20 event\\\n",
    "https://zenodo.org/records/10609730/files/Hail_size_data.zip?download=1"
   ]
  },
  {
   "cell_type": "code",
   "execution_count": 2,
   "id": "6d2f6d12-5f4e-442a-a723-2650ad147322",
   "metadata": {},
   "outputs": [],
   "source": [
    "fn = 'Hail_size_data/Flight_01_FA_20210620.nc'\n",
    "ds = nc.Dataset(fn)"
   ]
  },
  {
   "cell_type": "code",
   "execution_count": 3,
   "id": "b4f0204a-b115-4107-b799-5cccbebf7ada",
   "metadata": {},
   "outputs": [],
   "source": [
    "major_ax = ds['hail_major_axis'][:].data\n",
    "minor_ax =  ds['hail_minor_axis'][:].data\n",
    "hail_co_x = ds['hail_center_x'][:].data\n",
    "hail_co_y = ds['hail_center_y'][:].data"
   ]
  },
  {
   "cell_type": "code",
   "execution_count": 54,
   "id": "b1ccaee1-6e24-409b-93a1-71e13df69805",
   "metadata": {},
   "outputs": [],
   "source": [
    "#Ground samppling distance [mm]\n",
    "gsd = ds['gsd'][:].data\n",
    "\n",
    "#Coordinates (in pixels) to place the virtual sensors within the orthophoto (600 m2)\n",
    "xmin = 2400\n",
    "xmax = 19393\n",
    "ymin = 3700\n",
    "ymax = 19393\n",
    "\n",
    "#Number of virtual sensors\n",
    "nsens = 100\n",
    "sensor_area = 0.2 #m2\n",
    "\n",
    "vsensor_dict = {}\n",
    "vsens_co = []\n",
    "\n",
    "vsensor_dict['dist'] = []\n",
    "vsensor_dict['major'] = []\n",
    "vsensor_dict['minor'] = []\n",
    "vsensor_dict['hail_x'] = []\n",
    "vsensor_dict['hail_y'] = []\n",
    "    \n",
    "for n in range(0,nsens):\n",
    "    #Randomly place hailsensor (center coordinates) on field and save hits\n",
    "    xrand = random.randrange(xmin,xmax)\n",
    "    yrand = random.randrange(ymin,ymax)\n",
    "    sens_co = (xrand, yrand)\n",
    "    vsens_co.append(sens_co)\n",
    "    \n",
    "    dist_list = []\n",
    "    major_list = []\n",
    "    minor_list = []\n",
    "    hail_x = []\n",
    "    hail_y = []\n",
    "\n",
    "    for i,x in enumerate(hail_co_x):\n",
    "        y = hail_co_y[i]\n",
    "        hail_co = (x,y)\n",
    "\n",
    "        #Calculate distance from center of virtual sensor pixel to hail center pixels\n",
    "        dist = distance.euclidean(sens_co, hail_co) * gsd\n",
    "       \n",
    "        #If distance is within the virtual sensor area count it as a hit\n",
    "        if dist <= np.sqrt(sensor_area/np.pi)*1000:\n",
    "            dist_list.append(dist)\n",
    "            major_list.append(major_ax[i])\n",
    "            minor_list.append(minor_ax[i])\n",
    "            hail_x.append(x)\n",
    "            hail_y.append(y)\n",
    "\n",
    "    vsensor_dict['dist'].append(dist_list)\n",
    "    vsensor_dict['major'].append(major_list)\n",
    "    vsensor_dict['minor'].append(minor_list)\n",
    "    vsensor_dict['hail_x'].append(hail_x)\n",
    "    vsensor_dict['hail_y'].append(hail_y)\n",
    "\n",
    "vsensor_dict['vsens_co'] = vsens_co\n",
    "\n",
    "#Save dictionary:\n",
    "with open('VSENSOR_N100_600m2.pkl','wb') as f:\n",
    "    pk.dump(vsensor_dict, f)"
   ]
  }
 ],
 "metadata": {
  "kernelspec": {
   "display_name": "Python 3 (ipykernel)",
   "language": "python",
   "name": "python3"
  },
  "language_info": {
   "codemirror_mode": {
    "name": "ipython",
    "version": 3
   },
   "file_extension": ".py",
   "mimetype": "text/x-python",
   "name": "python",
   "nbconvert_exporter": "python",
   "pygments_lexer": "ipython3",
   "version": "3.10.4"
  }
 },
 "nbformat": 4,
 "nbformat_minor": 5
}
