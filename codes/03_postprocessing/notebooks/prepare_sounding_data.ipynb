{
 "cells": [
  {
   "cell_type": "code",
   "execution_count": null,
   "id": "0b92ef4e-4103-431e-bc9a-90de34bdd689",
   "metadata": {},
   "outputs": [],
   "source": [
    "import pandas as pd\n",
    "import numpy as np\n",
    "\n",
    "def prepare_sounding_data(input_file_path, output_file_path):\n",
    "    \"\"\"\n",
    "    Prepare sounding data for further analyses.\n",
    "\n",
    "    Parameters:\n",
    "    - input_file_path (str): The file path to the input CSV file containing sounding data.\n",
    "    - output_file_path (str): The file path to save the prepared data in CSV format.\n",
    "\n",
    "    Returns:\n",
    "    None: The function reads the input file, processes the data, and saves it to the output file.\n",
    "    \"\"\"\n",
    "    # Read the sounding data from the input CSV file\n",
    "    df = pd.read_csv(input_file_path, sep=';')\n",
    "\n",
    "    # Extract and reorder selected columns: LEVEL, HGHT, TEMP, DWPT, WDIR, WSPD\n",
    "    selected_columns = ['LEVEL', 'HGHT', 'TEMP', 'DWPT', 'WDIR', 'WSPD']\n",
    "    df_subset = df[selected_columns]\n",
    "\n",
    "    # Save the processed data to a new CSV file with ',' as the separator\n",
    "    df_subset.to_csv(output_file_path, sep=',', index=False)\n",
    "\n",
    "    print(f\"Prepared sounding data saved to: {output_file_path}\")\n",
    "\n",
    "# Example usage:\n",
    "file_path = '/home/martin/container/hail/hodograph/20210620_PAY_12UTC.csv'\n",
    "out_file = '/home/martin/container/hail/hodograph/20210620.PAY'\n",
    "prepare_sounding_data(file_path, out_file)"
   ]
  }
 ],
 "metadata": {
  "kernelspec": {
   "display_name": "Python 3 (ipykernel)",
   "language": "python",
   "name": "python3"
  },
  "language_info": {
   "codemirror_mode": {
    "name": "ipython",
    "version": 3
   },
   "file_extension": ".py",
   "mimetype": "text/x-python",
   "name": "python",
   "nbconvert_exporter": "python",
   "pygments_lexer": "ipython3",
   "version": "3.10.4"
  }
 },
 "nbformat": 4,
 "nbformat_minor": 5
}
