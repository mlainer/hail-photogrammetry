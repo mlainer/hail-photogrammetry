{
 "cells": [
  {
   "cell_type": "code",
   "execution_count": null,
   "id": "2ca258a1",
   "metadata": {},
   "outputs": [],
   "source": [
    "#Plot real distribution of fake-hail experiment\n",
    "S10 = np.ones(50)*10\n",
    "S15 = np.ones(50)*15\n",
    "S20 = np.ones(20)*23\n",
    "S25 = np.ones(10)*25\n",
    "S30 = np.ones(10)*30\n",
    "data_true = np.concatenate([S10,S15,S20,S25,S30])\n",
    "n_hail_true=np.size(data_true)\n",
    "\n",
    "fig = plt.figure()\n",
    "ax = fig.add_subplot(111)\n",
    "numBins = 8\n",
    "bins = ax.hist([data_true,data],numBins,range=[2.5,42.5],color=['yellow','blue'],alpha=0.8, edgecolor='black',label=['True','Photogrammetry'])\n",
    "\n",
    "#ax.hist(data,numBins,range=[2.5,42.5],color='blue',alpha=0.8, edgecolor='black')\n",
    "plt.title('Detectron2 - Fake hail experiment 2022-03-30. #Hail: '+str(n_hail_true)+'|'+str(n_hail))\n",
    "plt.ylim([0,60])\n",
    "plt.grid(axis='y',color='red',linestyle='--',alpha=0.5)\n",
    "plt.ylabel('Number of hailstones')\n",
    "plt.xlabel('Major axes [mm]')\n",
    "plt.legend(loc='upper right')\n",
    "plt.show()"
   ]
  },
  {
   "cell_type": "code",
   "execution_count": null,
   "id": "60d6cfd2",
   "metadata": {},
   "outputs": [],
   "source": [
    "#Plot real distribution of fake-hail experiment\n",
    "S10 = np.ones(50)*10\n",
    "S15 = np.ones(50)*15\n",
    "S20 = np.ones(20)*23\n",
    "S25 = np.ones(10)*25\n",
    "S30 = np.ones(10)*30\n",
    "data_true = np.concatenate([S10,S15,S20,S25,S30])\n",
    "n_hail_true=np.size(data_true)\n",
    "\n",
    "fig = plt.figure()\n",
    "ax = fig.add_subplot(111)\n",
    "numBins = 8\n",
    "bins = ax.hist([data_true,data],numBins,range=[2.5,42.5],color=['yellow','blue'],alpha=0.8, edgecolor='black',label=['True','Photogrammetry Mask'])\n",
    "\n",
    "#ax.hist(data,numBins,range=[2.5,42.5],color='blue',alpha=0.8, edgecolor='black')\n",
    "plt.title('Detectron2 - Fake hail experiment 2022-03-30. #Hail: '+str(n_hail_true)+'|'+str(n_hail))\n",
    "plt.ylim([0,60])\n",
    "plt.grid(axis='y',color='red',linestyle='--',alpha=0.5)\n",
    "plt.ylabel('Number of hailstones')\n",
    "plt.xlabel('Major axes [mm]')\n",
    "plt.legend(loc='upper right')\n",
    "plt.show()"
   ]
  },
  {
   "cell_type": "code",
   "execution_count": null,
   "id": "5dc502d9",
   "metadata": {},
   "outputs": [],
   "source": []
  }
 ],
 "metadata": {
  "kernelspec": {
   "display_name": "Python 3",
   "language": "python",
   "name": "python3"
  },
  "language_info": {
   "codemirror_mode": {
    "name": "ipython",
    "version": 3
   },
   "file_extension": ".py",
   "mimetype": "text/x-python",
   "name": "python",
   "nbconvert_exporter": "python",
   "pygments_lexer": "ipython3",
   "version": "3.5.6"
  }
 },
 "nbformat": 4,
 "nbformat_minor": 5
}
